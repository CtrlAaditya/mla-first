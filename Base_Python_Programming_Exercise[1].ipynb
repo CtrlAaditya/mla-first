{
 "cells": [
  {
   "cell_type": "markdown",
   "metadata": {},
   "source": [
    "## Python Basic Programming Exercises"
   ]
  },
  {
   "cell_type": "raw",
   "metadata": {},
   "source": [
    "Q1: What is the output of following expression\n",
    "    5 + 4 * 9 % (3 + 1) / 6 - 1"
   ]
  },
  {
   "cell_type": "code",
   "execution_count": 1,
   "metadata": {},
   "outputs": [
    {
     "name": "stdout",
     "output_type": "stream",
     "text": [
      "4.0\n"
     ]
    }
   ],
   "source": [
    "result = 5 + 4 * 9 % (3 + 1) / 6 - 1\n",
    "print(result)\n"
   ]
  },
  {
   "cell_type": "raw",
   "metadata": {},
   "source": [
    "Q2: Write a program to check if a Number is Odd or Even. Take number as a input from user at runtime."
   ]
  },
  {
   "cell_type": "code",
   "execution_count": 2,
   "metadata": {},
   "outputs": [
    {
     "name": "stdout",
     "output_type": "stream",
     "text": [
      "43 is odd.\n"
     ]
    }
   ],
   "source": [
    "user_input = input(\"Enter a number: \")\n",
    "number = int(user_input)\n",
    "if number % 2 == 0:\n",
    "    print(f\"{number} is even.\")\n",
    "else:\n",
    "    print(f\"{number} is odd.\")\n"
   ]
  },
  {
   "cell_type": "raw",
   "metadata": {},
   "source": [
    "Q3: Write a program to display the multiplication table by taking a number as input. \n",
    "    [Hint : Use print statement inside of a loop]"
   ]
  },
  {
   "cell_type": "code",
   "execution_count": 3,
   "metadata": {},
   "outputs": [
    {
     "name": "stdout",
     "output_type": "stream",
     "text": [
      "Multiplication table for 33:\n",
      "33 x 1 = 33\n",
      "33 x 2 = 66\n",
      "33 x 3 = 99\n",
      "33 x 4 = 132\n",
      "33 x 5 = 165\n",
      "33 x 6 = 198\n",
      "33 x 7 = 231\n",
      "33 x 8 = 264\n",
      "33 x 9 = 297\n",
      "33 x 10 = 330\n"
     ]
    }
   ],
   "source": [
    "user_input = input(\"Enter a number: \")\n",
    "number = int(user_input)\n",
    "print(f\"Multiplication table for {number}:\")\n",
    "for i in range(1, 11):\n",
    "    result = number * i\n",
    "    print(f\"{number} x {i} = {result}\")\n"
   ]
  },
  {
   "cell_type": "raw",
   "metadata": {},
   "source": [
    "Q4: Write a program which will find all numbers between 2000 and 3200 which are divisible by 7 \n",
    "    but are not a multiple of 5.\n",
    " \n",
    "Note: The numbers obtained should be printed in a comma-separated sequence on a single line."
   ]
  },
  {
   "cell_type": "code",
   "execution_count": 4,
   "metadata": {},
   "outputs": [
    {
     "name": "stdout",
     "output_type": "stream",
     "text": [
      "2002,2009,2016,2023,2037,2044,2051,2058,2072,2079,2086,2093,2107,2114,2121,2128,2142,2149,2156,2163,2177,2184,2191,2198,2212,2219,2226,2233,2247,2254,2261,2268,2282,2289,2296,2303,2317,2324,2331,2338,2352,2359,2366,2373,2387,2394,2401,2408,2422,2429,2436,2443,2457,2464,2471,2478,2492,2499,2506,2513,2527,2534,2541,2548,2562,2569,2576,2583,2597,2604,2611,2618,2632,2639,2646,2653,2667,2674,2681,2688,2702,2709,2716,2723,2737,2744,2751,2758,2772,2779,2786,2793,2807,2814,2821,2828,2842,2849,2856,2863,2877,2884,2891,2898,2912,2919,2926,2933,2947,2954,2961,2968,2982,2989,2996,3003,3017,3024,3031,3038,3052,3059,3066,3073,3087,3094,3101,3108,3122,3129,3136,3143,3157,3164,3171,3178,3192,3199\n"
     ]
    }
   ],
   "source": [
    "result_numbers = []\n",
    "for number in range(2000, 3201):\n",
    "    \n",
    "    if number % 7 == 0 and number % 5 != 0:\n",
    "        result_numbers.append(str(number))\n",
    "\n",
    "\n",
    "print(\",\".join(result_numbers))\n"
   ]
  },
  {
   "cell_type": "raw",
   "metadata": {},
   "source": [
    "Q5: Count the elements of each datatype inside the list and display in output\n",
    "    [2, 3, 'Py', '10', 1, 'SQL', 5.5, True, 3, 'John', None, 7]    "
   ]
  },
  {
   "cell_type": "code",
   "execution_count": 5,
   "metadata": {},
   "outputs": [
    {
     "name": "stdout",
     "output_type": "stream",
     "text": [
      "Count of integers: 6\n",
      "Count of floats: 1\n",
      "Count of strings: 4\n",
      "Count of booleans: 0\n",
      "Count of None: 1\n",
      "Count of other datatypes: 0\n"
     ]
    }
   ],
   "source": [
    "my_list = [2, 3, 'Py', '10', 1, 'SQL', 5.5, True, 3, 'John', None, 7]\n",
    "int_count = 0\n",
    "float_count = 0\n",
    "str_count = 0\n",
    "bool_count = 0\n",
    "none_count = 0\n",
    "other_count = 0\n",
    "\n",
    "for element in my_list:\n",
    "    if isinstance(element, int):\n",
    "        int_count += 1\n",
    "    elif isinstance(element, float):\n",
    "        float_count += 1\n",
    "    elif isinstance(element, str):\n",
    "        str_count += 1\n",
    "    elif isinstance(element, bool):\n",
    "        bool_count += 1\n",
    "    elif element is None:\n",
    "        none_count += 1\n",
    "    else:\n",
    "        other_count += 1\n",
    "\n",
    "print(f\"Count of integers: {int_count}\")\n",
    "print(f\"Count of floats: {float_count}\")\n",
    "print(f\"Count of strings: {str_count}\")\n",
    "print(f\"Count of booleans: {bool_count}\")\n",
    "print(f\"Count of None: {none_count}\")\n",
    "print(f\"Count of other datatypes: {other_count}\")\n"
   ]
  },
  {
   "cell_type": "raw",
   "metadata": {},
   "source": [
    "Q6: Add all values from the list with numeric datatypes \n",
    "    [2, 3, 'Py', '10', 1, 'SQL', 5.5, True, 3, 'John', None, 7] "
   ]
  },
  {
   "cell_type": "code",
   "execution_count": 6,
   "metadata": {},
   "outputs": [
    {
     "name": "stdout",
     "output_type": "stream",
     "text": [
      "Sum of numeric values: 22.5\n"
     ]
    }
   ],
   "source": [
    "my_list = [2, 3, 'Py', '10', 1, 'SQL', 5.5, True, 3, 'John', None, 7]\n",
    "\n",
    "numeric_sum = 0\n",
    "\n",
    "for element in my_list:\n",
    "    if isinstance(element, (int, float)):\n",
    "        numeric_sum += element\n",
    "\n",
    "print(f\"Sum of numeric values: {numeric_sum}\")\n"
   ]
  },
  {
   "cell_type": "raw",
   "metadata": {},
   "source": [
    "Q7: Concat all str datatypes with hyphen as a delimiter\n",
    "    [2, 3, 'Py', '10', 1, 'SQL', 5.5, True, 3, 'John', None, 7] "
   ]
  },
  {
   "cell_type": "code",
   "execution_count": 7,
   "metadata": {},
   "outputs": [
    {
     "name": "stdout",
     "output_type": "stream",
     "text": [
      "Concatenated string: Py-10-SQL-John\n"
     ]
    }
   ],
   "source": [
    "my_list = [2, 3, 'Py', '10', 1, 'SQL', 5.5, True, 3, 'John', None, 7]\n",
    "\n",
    "concatenated_str = '-'.join(str(element) for element in my_list if isinstance(element, str))\n",
    "\n",
    "print(f\"Concatenated string: {concatenated_str}\")\n"
   ]
  },
  {
   "cell_type": "raw",
   "metadata": {},
   "source": [
    "Q8: Write a UDF that takes list as input and returns sum of all numbers \n",
    "    (exclude bool) and count of all str \n",
    "    [2, 3, 'Py', '10', 1, 'SQL', 5.5, True, 3, 'John', None, 7] \n",
    "    \n",
    "Hint:\n",
    "-----\n",
    "def my_func:\n",
    "    # your code\n",
    "        \n",
    "my_func(l1)\n",
    "# output --> {'Sum': xxx, 'Count_of_Strs': xxx}"
   ]
  },
  {
   "cell_type": "code",
   "execution_count": 8,
   "metadata": {},
   "outputs": [
    {
     "name": "stdout",
     "output_type": "stream",
     "text": [
      "{'Sum': 22.5, 'Count_of_Strs': 4}\n"
     ]
    }
   ],
   "source": [
    "def my_func(input_list):\n",
    "    numeric_sum = 0\n",
    "    str_count = 0\n",
    "    \n",
    "    for element in input_list:\n",
    "        if isinstance(element, (int, float)):\n",
    "            numeric_sum += element\n",
    "        elif isinstance(element, str):\n",
    "            str_count += 1\n",
    "    \n",
    "    result = {'Sum': numeric_sum, 'Count_of_Strs': str_count}\n",
    "    return result\n",
    "\n",
    "my_list = [2, 3, 'Py', '10', 1, 'SQL', 5.5, True, 3, 'John', None, 7]\n",
    "\n",
    "output = my_func(my_list)\n",
    "print(output)\n"
   ]
  },
  {
   "cell_type": "raw",
   "metadata": {},
   "source": [
    "Q9: Get only odd numbers from the following list and store the numbers in new list\n",
    "    li = [5, 7, 22, 97, 54, 62, 77, 23, 73, 61]\n",
    "\n",
    "    i. Use loops to get the answer\n",
    "   ii. Use list comprehensions\n",
    "  iii. Use lambda function with filter"
   ]
  },
  {
   "cell_type": "code",
   "execution_count": 9,
   "metadata": {},
   "outputs": [
    {
     "name": "stdout",
     "output_type": "stream",
     "text": [
      "Using loops: [5, 7, 97, 77, 23, 73, 61]\n",
      "Using list comprehension: [5, 7, 97, 77, 23, 73, 61]\n",
      "Using lambda function with filter: [5, 7, 97, 77, 23, 73, 61]\n"
     ]
    }
   ],
   "source": [
    "li = [5, 7, 22, 97, 54, 62, 77, 23, 73, 61]\n",
    "\n",
    "# Using loops\n",
    "odd_numbers_loop = []\n",
    "for num in li:\n",
    "    if num % 2 != 0:\n",
    "        odd_numbers_loop.append(num)\n",
    "\n",
    "print(\"Using loops:\", odd_numbers_loop)\n",
    "\n",
    "\n",
    "li = [5, 7, 22, 97, 54, 62, 77, 23, 73, 61]\n",
    "\n",
    "# Using list comprehension\n",
    "odd_numbers_lc = [num for num in li if num % 2 != 0]\n",
    "\n",
    "print(\"Using list comprehension:\", odd_numbers_lc)\n",
    "\n",
    "\n",
    "li = [5, 7, 22, 97, 54, 62, 77, 23, 73, 61]\n",
    "\n",
    "# Using lambda function with filter\n",
    "is_odd = lambda x: x % 2 != 0\n",
    "odd_numbers_filter = list(filter(is_odd, li))\n",
    "\n",
    "print(\"Using lambda function with filter:\", odd_numbers_filter)\n"
   ]
  },
  {
   "cell_type": "raw",
   "metadata": {},
   "source": [
    "Q10: Write a UDF to return the descriptives [sum, count, min, mean, max] for a list of n number of input \n",
    "    numbers."
   ]
  },
  {
   "cell_type": "code",
   "execution_count": 10,
   "metadata": {},
   "outputs": [
    {
     "name": "stdout",
     "output_type": "stream",
     "text": [
      "Descriptives for the input list:\n",
      "{'Sum': 481, 'Count': 10, 'Minimum': 5, 'Mean': 48.1, 'Maximum': 97}\n"
     ]
    }
   ],
   "source": [
    "def calculate_descriptives(numbers):\n",
    "    if not numbers:\n",
    "        return {'Error': 'Empty list'}\n",
    "\n",
    "    total_sum = sum(numbers)\n",
    "    count = len(numbers)\n",
    "    minimum = min(numbers)\n",
    "    mean = total_sum / count\n",
    "    maximum = max(numbers)\n",
    "\n",
    "    result_dict = {\n",
    "        'Sum': total_sum,\n",
    "        'Count': count,\n",
    "        'Minimum': minimum,\n",
    "        'Mean': mean,\n",
    "        'Maximum': maximum\n",
    "    }\n",
    "\n",
    "    return result_dict\n",
    "\n",
    "input_numbers = [5, 7, 22, 97, 54, 62, 77, 23, 73, 61]\n",
    "descriptives_result = calculate_descriptives(input_numbers)\n",
    "\n",
    "print(\"Descriptives for the input list:\")\n",
    "print(descriptives_result)\n"
   ]
  },
  {
   "cell_type": "raw",
   "metadata": {},
   "source": [
    "Q11: Write an udf to calculate the area of different shapes\n",
    "\n",
    "Take shape and dimensions as arguments to udf as follows : \n",
    "\n",
    "1. square which has side\n",
    "2. rectangle which has length and width\n",
    "3. circle which has radius\n",
    "\n",
    "The shape should be a positional argument and it's dimensions are taken as kwargs\n",
    "\n",
    "Perform proper validation for the user inputs and then calculate area.\n",
    "\n",
    "E.g. if shape is square, ensure kwargs has \"side\" and if so, then you may return the area, else display appropriate error message like \"Please enter 'side' for a square\""
   ]
  },
  {
   "cell_type": "code",
   "execution_count": 11,
   "metadata": {},
   "outputs": [
    {
     "name": "stdout",
     "output_type": "stream",
     "text": [
      "Square Area: 25\n",
      "Rectangle Area: 24\n",
      "Circle Area: 28.274333882308138\n",
      "Invalid Shape: Invalid shape. Supported shapes are: square, rectangle, circle\n"
     ]
    }
   ],
   "source": [
    "import math\n",
    "\n",
    "def calculate_area(shape, **kwargs):\n",
    "    # Function to calculate area for a square\n",
    "    def square_area(side):\n",
    "        return side ** 2\n",
    "    \n",
    "    # Function to calculate area for a rectangle\n",
    "    def rectangle_area(length, width):\n",
    "        return length * width\n",
    "    \n",
    "    # Function to calculate area for a circle\n",
    "    def circle_area(radius):\n",
    "        return math.pi * radius ** 2\n",
    "    \n",
    "    # Validate and calculate area based on the shape\n",
    "    if shape == 'square':\n",
    "        if 'side' in kwargs:\n",
    "            return square_area(kwargs['side'])\n",
    "        else:\n",
    "            return \"Please enter 'side' for a square\"\n",
    "    elif shape == 'rectangle':\n",
    "        if 'length' in kwargs and 'width' in kwargs:\n",
    "            return rectangle_area(kwargs['length'], kwargs['width'])\n",
    "        else:\n",
    "            return \"Please enter 'length' and 'width' for a rectangle\"\n",
    "    elif shape == 'circle':\n",
    "        if 'radius' in kwargs:\n",
    "            return circle_area(kwargs['radius'])\n",
    "        else:\n",
    "            return \"Please enter 'radius' for a circle\"\n",
    "    else:\n",
    "        return \"Invalid shape. Supported shapes are: square, rectangle, circle\"\n",
    "\n",
    "# Example usage:\n",
    "square_result = calculate_area('square', side=5)\n",
    "print(\"Square Area:\", square_result)\n",
    "\n",
    "rectangle_result = calculate_area('rectangle', length=6, width=4)\n",
    "print(\"Rectangle Area:\", rectangle_result)\n",
    "\n",
    "circle_result = calculate_area('circle', radius=3)\n",
    "print(\"Circle Area:\", circle_result)\n",
    "\n",
    "invalid_result = calculate_area('triangle', base=5, height=8)\n",
    "print(\"Invalid Shape:\", invalid_result)\n"
   ]
  },
  {
   "cell_type": "raw",
   "metadata": {},
   "source": [
    "Q12: Write a UDF to reconcile the values within two lists.\n",
    "    l1 = ['January', 'February', 'March', 'May', 'June', 'September', 'December']\n",
    "    l2 = ['January', 'February', 'April', 'June', 'October', 'December']\n",
    "\n",
    "Hint:\n",
    "-----\n",
    "def func(l1, l2):\n",
    "    your code here...\n",
    "    \n",
    "Output:\n",
    "{'Matched': ['January', 'February', 'June', 'December'],\n",
    "    'Only in l1': ['March', 'May', 'September'],\n",
    "        'Only in l2': ['April', 'October']}"
   ]
  },
  {
   "cell_type": "code",
   "execution_count": 12,
   "metadata": {},
   "outputs": [
    {
     "name": "stdout",
     "output_type": "stream",
     "text": [
      "{'Matched': ['December', 'January', 'June', 'February'], 'Only in l1': ['March', 'September', 'May'], 'Only in l2': ['October', 'April']}\n"
     ]
    }
   ],
   "source": [
    "def reconcile_lists(l1, l2):\n",
    "\n",
    "    matched = list(set(l1) & set(l2))\n",
    "\n",
    "    only_in_l1 = list(set(l1) - set(l2))\n",
    "\n",
    "    only_in_l2 = list(set(l2) - set(l1))\n",
    "\n",
    "    result_dict = {\n",
    "        'Matched': matched,\n",
    "        'Only in l1': only_in_l1,\n",
    "        'Only in l2': only_in_l2\n",
    "    }\n",
    "\n",
    "    return result_dict\n",
    "\n",
    "l1 = ['January', 'February', 'March', 'May', 'June', 'September', 'December']\n",
    "l2 = ['January', 'February', 'April', 'June', 'October', 'December']\n",
    "\n",
    "result = reconcile_lists(l1, l2)\n",
    "print(result)\n"
   ]
  },
  {
   "cell_type": "raw",
   "metadata": {
    "collapsed": true
   },
   "source": [
    "Q13: write a UDF to check if a number is prime or not."
   ]
  },
  {
   "cell_type": "code",
   "execution_count": 13,
   "metadata": {},
   "outputs": [
    {
     "name": "stdout",
     "output_type": "stream",
     "text": [
      "17 is a prime number.\n"
     ]
    }
   ],
   "source": [
    "def is_prime(number):\n",
    "\n",
    "    if number < 2:\n",
    "        return False\n",
    "\n",
    "    for i in range(2, int(number**0.5) + 1):\n",
    "        if number % i == 0:\n",
    "            return False \n",
    "\n",
    "    return True  \n",
    "\n",
    "num = 17\n",
    "if is_prime(num):\n",
    "    print(f\"{num} is a prime number.\")\n",
    "else:\n",
    "    print(f\"{num} is not a prime number.\")\n"
   ]
  },
  {
   "cell_type": "raw",
   "metadata": {
    "collapsed": true
   },
   "source": [
    "Q14. Write a program which can compute the factorial of a given numbers. \n",
    "#   The results should be printed in a comma-separated sequence on a single line. \n",
    "# input() function can be used for getting user(console) input\n",
    "\n",
    "\n",
    "#Suppose the input is supplied to the program:  8  \n",
    "#Then, the output should be:  40320 \n",
    "#Hints: In case of input data being supplied to the question, it should be assumed to be a console input. \n"
   ]
  },
  {
   "cell_type": "code",
   "execution_count": 15,
   "metadata": {},
   "outputs": [
    {
     "name": "stdout",
     "output_type": "stream",
     "text": [
      "The factorial of 4 is: 24\n"
     ]
    }
   ],
   "source": [
    "def factorial(n):\n",
    "    if n == 0 or n == 1:\n",
    "        return 1\n",
    "    else:\n",
    "        return n * factorial(n - 1)\n",
    "\n",
    "user_input = input(\"Enter a number: \")\n",
    "\n",
    "number = int(user_input)\n",
    "\n",
    "result = factorial(number)\n",
    "\n",
    "print(f\"The factorial of {number} is: {result}\")\n"
   ]
  },
  {
   "cell_type": "raw",
   "metadata": {
    "collapsed": true
   },
   "source": [
    "Q15. With a given integral number n, write a program to generate a dictionary that contains (i, i*i) such that is an integral number between 1 and n (both included). and then the program should print the dictionary.\n",
    "\n",
    "#Suppose the following input is supplied to the program: 8\n",
    "#Then, the output should be: {1: 1, 2: 4, 3: 9, 4: 16, 5: 25, 6: 36, 7: 49, 8: 64}\n",
    "#Hints: In case of input data being supplied to the question, it should be assumed to be a console input. Consider using dict()\n",
    "\n"
   ]
  },
  {
   "cell_type": "code",
   "execution_count": 16,
   "metadata": {},
   "outputs": [
    {
     "name": "stdout",
     "output_type": "stream",
     "text": [
      "{1: 1, 2: 4, 3: 9, 4: 16, 5: 25, 6: 36, 7: 49, 8: 64}\n"
     ]
    }
   ],
   "source": [
    "\n",
    "user_input = input(\"Enter an integral number: \")\n",
    "n = int(user_input)\n",
    "result_dict = {i: i*i for i in range(1, n+1)}\n",
    "print(result_dict)\n",
    "\n"
   ]
  },
  {
   "cell_type": "raw",
   "metadata": {
    "collapsed": true
   },
   "source": [
    "Q16. Write a program which accepts a sequence of comma-separated numbers from console and generate a list and a tuple which contains every number.\n",
    "#Suppose the following input is supplied to the program: 34,67,55,33,12,98\n",
    "    #Then, the output should be: ['34', '67', '55', '33', '12', '98'] ('34', '67', '55', '33', '12', '98')\n",
    "\n",
    "#Hints: In case of input data being supplied to the question, it should be assumed to be a console input. you may use tuple() method to convert list to tuple\n"
   ]
  },
  {
   "cell_type": "code",
   "execution_count": 18,
   "metadata": {},
   "outputs": [
    {
     "name": "stdout",
     "output_type": "stream",
     "text": [
      "['divyaprakash das python developer']\n",
      "('divyaprakash das python developer',)\n"
     ]
    }
   ],
   "source": [
    "user_input = input(\"Enter a sequence of comma-separated numbers: \")\n",
    "numbers_list = user_input.split(',')\n",
    "numbers_tuple = tuple(numbers_list)\n",
    "print(numbers_list)\n",
    "print(numbers_tuple)\n"
   ]
  },
  {
   "cell_type": "raw",
   "metadata": {
    "collapsed": true
   },
   "source": [
    "Q17. Write a program that accepts a comma separated sequence of words as input and \n",
    "# prints the words in a comma-separated sequence after sorting them alphabetically.\n",
    "\n",
    "# Suppose the following input is supplied to the program: without,hello,bag,world\n",
    "# Then, the output should be: bag,hello,without,world\n",
    "\n",
    "#Hints: In case of input data being supplied to the question, it should be assumed to be a console input.\n"
   ]
  },
  {
   "cell_type": "code",
   "execution_count": 19,
   "metadata": {},
   "outputs": [
    {
     "name": "stdout",
     "output_type": "stream",
     "text": [
      "Divyaprakash das GH Raisoni\n"
     ]
    }
   ],
   "source": [
    "user_input = input(\"Enter a comma-separated sequence of words: \")\n",
    "words_list = user_input.split(',')\n",
    "sorted_words = sorted(words_list)\n",
    "result_string = ','.join(sorted_words)\n",
    "print(result_string)\n"
   ]
  },
  {
   "cell_type": "raw",
   "metadata": {
    "collapsed": true
   },
   "source": [
    "Q18. Write a program that accepts a sequence of whitespace separated words \n",
    "# as input and prints the words after removing all duplicate words and sorting them alphanumerically.\n",
    "# Suppose the following input is supplied to the program: hello world and practice makes perfect and hello world again\n",
    "# Then, the output should be: again and hello makes perfect practice world\n",
    "\n",
    "#Hints: In case of input data being supplied to the question, it should be assumed to be a console input.\n",
    "#We use set container to remove duplicated data automatically and then use sorted() to sort the data.\n"
   ]
  },
  {
   "cell_type": "code",
   "execution_count": 21,
   "metadata": {},
   "outputs": [
    {
     "name": "stdout",
     "output_type": "stream",
     "text": [
      "Aaditya Abhay Abhishek Aditya\n"
     ]
    }
   ],
   "source": [
    "user_input = input(\"Enter a whitespace-separated sequence of words: \")\n",
    "words_list = user_input.split()\n",
    "unique_sorted_words = sorted(set(words_list))\n",
    "result_string = ' '.join(unique_sorted_words)\n",
    "print(result_string)\n"
   ]
  },
  {
   "cell_type": "raw",
   "metadata": {
    "collapsed": true
   },
   "source": [
    "Q19. Write a program that accepts a sentence and calculate the number of upper case \n",
    "# letters and lower case letters.\n",
    "#Suppose the following input is supplied to the program: Hello world!\n",
    "#Then, the output should be: UPPER CASE 1 LOWER CASE 9\n",
    "\n",
    "#Hints: In case of input data being supplied to the question, it should be assumed to be a console input.\n"
   ]
  },
  {
   "cell_type": "code",
   "execution_count": 22,
   "metadata": {},
   "outputs": [
    {
     "name": "stdout",
     "output_type": "stream",
     "text": [
      "UPPER CASE 2 LOWER CASE 8\n"
     ]
    }
   ],
   "source": [
    "sentence = input(\"Enter a sentence: \")\n",
    "\n",
    "upper_count = 0\n",
    "lower_count = 0\n",
    "\n",
    "for char in sentence:\n",
    "    \n",
    "    if char.isupper():\n",
    "        upper_count += 1\n",
    "    \n",
    "    elif char.islower():\n",
    "        lower_count += 1\n",
    "\n",
    "print(f\"UPPER CASE {upper_count} LOWER CASE {lower_count}\")\n"
   ]
  },
  {
   "cell_type": "raw",
   "metadata": {
    "collapsed": true
   },
   "source": [
    "Q20. Write a program that takes a string and returns reversed string. i.e. if input is \"abcd123\" output should be \"321dcba\""
   ]
  },
  {
   "cell_type": "code",
   "execution_count": null,
   "metadata": {},
   "outputs": [],
   "source": [
    "input_string = input(\"Enter a string: \")\n",
    "reversed_string = input_string[::-1]\n",
    "print(\"Reversed String:\", reversed_string)\n"
   ]
  },
  {
   "cell_type": "code",
   "execution_count": null,
   "metadata": {},
   "outputs": [],
   "source": []
  }
 ],
 "metadata": {
  "kernelspec": {
   "display_name": "Python 3",
   "language": "python",
   "name": "python3"
  },
  "language_info": {
   "codemirror_mode": {
    "name": "ipython",
    "version": 3
   },
   "file_extension": ".py",
   "mimetype": "text/x-python",
   "name": "python",
   "nbconvert_exporter": "python",
   "pygments_lexer": "ipython3",
   "version": "3.12.1"
  },
  "varInspector": {
   "cols": {
    "lenName": 16,
    "lenType": 16,
    "lenVar": 40
   },
   "kernels_config": {
    "python": {
     "delete_cmd_postfix": "",
     "delete_cmd_prefix": "del ",
     "library": "var_list.py",
     "varRefreshCmd": "print(var_dic_list())"
    },
    "r": {
     "delete_cmd_postfix": ") ",
     "delete_cmd_prefix": "rm(",
     "library": "var_list.r",
     "varRefreshCmd": "cat(var_dic_list()) "
    }
   },
   "types_to_exclude": [
    "module",
    "function",
    "builtin_function_or_method",
    "instance",
    "_Feature"
   ],
   "window_display": false
  }
 },
 "nbformat": 4,
 "nbformat_minor": 2
}
